{
 "cells": [
  {
   "cell_type": "code",
   "execution_count": 5,
   "id": "27469e65",
   "metadata": {},
   "outputs": [
    {
     "name": "stdout",
     "output_type": "stream",
     "text": [
      "Encrypted Message : CDE\n"
     ]
    }
   ],
   "source": [
    "# Creaser cipher encryption of 10 characters {replace a with c, b with d, and so on}\n",
    "\n",
    "input_string = input(\"Enter Message :\")\n",
    "separated_String = list(input_string)\n",
    "result = \"\"\n",
    "\n",
    "for i in separated_String:\n",
    "    temp = (ord(i)+2)\n",
    "    result += chr(temp)\n",
    "print(\"Encrypted Message :\", result)"
   ]
  },
  {
   "cell_type": "code",
   "execution_count": 4,
   "id": "4c9ece1f",
   "metadata": {},
   "outputs": [
    {
     "name": "stdout",
     "output_type": "stream",
     "text": [
      "The sum of the numbers in the list is:  50\n"
     ]
    }
   ],
   "source": [
    "# input list of numbers comma separated and get sum of them\n",
    "\n",
    "x = input(\"Enter a list of numbers separated by commas :\")\n",
    "sum = 0\n",
    "\n",
    "for i in x.split(','):\n",
    "    sum = sum + int(i)\n",
    "\n",
    "print(\"The sum of the numbers in the list is: \", sum)"
   ]
  },
  {
   "cell_type": "code",
   "execution_count": null,
   "id": "860f7813",
   "metadata": {},
   "outputs": [],
   "source": []
  }
 ],
 "metadata": {
  "kernelspec": {
   "display_name": "Python 3 (ipykernel)",
   "language": "python",
   "name": "python3"
  },
  "language_info": {
   "codemirror_mode": {
    "name": "ipython",
    "version": 3
   },
   "file_extension": ".py",
   "mimetype": "text/x-python",
   "name": "python",
   "nbconvert_exporter": "python",
   "pygments_lexer": "ipython3",
   "version": "3.11.3"
  }
 },
 "nbformat": 4,
 "nbformat_minor": 5
}
