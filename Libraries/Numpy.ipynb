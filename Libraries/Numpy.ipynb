{
 "cells": [
  {
   "attachments": {},
   "cell_type": "markdown",
   "metadata": {},
   "source": [
    "# Numpy Basic"
   ]
  },
  {
   "cell_type": "code",
   "execution_count": 2,
   "metadata": {},
   "outputs": [
    {
     "data": {
      "text/plain": [
       "'1.24.2'"
      ]
     },
     "execution_count": 2,
     "metadata": {},
     "output_type": "execute_result"
    }
   ],
   "source": [
    "import numpy as np\n",
    "np.__version__"
   ]
  },
  {
   "attachments": {},
   "cell_type": "markdown",
   "metadata": {},
   "source": [
    "#### Adding two Arrays"
   ]
  },
  {
   "cell_type": "code",
   "execution_count": 10,
   "metadata": {},
   "outputs": [
    {
     "name": "stdout",
     "output_type": "stream",
     "text": [
      "[2 4 6]\n"
     ]
    }
   ],
   "source": [
    "arr1 = np.array([1, 2, 3])\n",
    "arr2 = np.array([1, 2, 3], dtype = 'int32')\n",
    "arr3 = arr1 + arr2\n",
    "print(arr3)"
   ]
  },
  {
   "attachments": {},
   "cell_type": "markdown",
   "metadata": {},
   "source": [
    "#### get data type && size && Total size"
   ]
  },
  {
   "cell_type": "code",
   "execution_count": 14,
   "metadata": {},
   "outputs": [
    {
     "name": "stdout",
     "output_type": "stream",
     "text": [
      "Type: int32\n",
      "Size of array: 3\n",
      "Size of one element: 4\n",
      "Total Size: 12\n"
     ]
    }
   ],
   "source": [
    "print(\"Type:\", arr2.dtype)\n",
    "print(\"Size of array:\", arr2.size)\n",
    "print(\"Size of one element:\", arr2.itemsize)\n",
    "print(\"Total Size:\", arr2.nbytes)"
   ]
  },
  {
   "attachments": {},
   "cell_type": "markdown",
   "metadata": {},
   "source": [
    "## Multi_Dimensional Array Basics"
   ]
  },
  {
   "cell_type": "code",
   "execution_count": 11,
   "metadata": {},
   "outputs": [
    {
     "name": "stdout",
     "output_type": "stream",
     "text": [
      "arr2D: [[1 2 3]\n",
      " [4 5 6]]\n",
      "arr3D: [[[1 2 3]\n",
      "  [4 5 6]\n",
      "  [7 8 9]]]\n"
     ]
    }
   ],
   "source": [
    "arr2D = np.array([[1, 2, 3], [4, 5, 6]])\n",
    "arr3D = np.array([[[1, 2, 3], [4, 5, 6], [7, 8, 9]]])\n",
    "print(\"arr2D:\", arr2D)\n",
    "print(\"arr3D:\", arr3D)"
   ]
  },
  {
   "attachments": {},
   "cell_type": "markdown",
   "metadata": {},
   "source": [
    "#### get dimensions"
   ]
  },
  {
   "cell_type": "code",
   "execution_count": 12,
   "metadata": {},
   "outputs": [
    {
     "name": "stdout",
     "output_type": "stream",
     "text": [
      "arr2D: 2\n",
      "arr3D: 3\n"
     ]
    }
   ],
   "source": [
    "print(\"arr2D:\", arr2D.ndim)\n",
    "print(\"arr3D:\", arr3D.ndim)"
   ]
  },
  {
   "attachments": {},
   "cell_type": "markdown",
   "metadata": {},
   "source": [
    "#### get Shape"
   ]
  },
  {
   "cell_type": "code",
   "execution_count": 13,
   "metadata": {},
   "outputs": [
    {
     "name": "stdout",
     "output_type": "stream",
     "text": [
      "(2, 3)\n",
      "(1, 3, 3)\n"
     ]
    }
   ],
   "source": [
    "print(arr2D.shape)\n",
    "print(arr3D.shape)"
   ]
  },
  {
   "attachments": {},
   "cell_type": "markdown",
   "metadata": {},
   "source": [
    "## Organizing Arrays"
   ]
  },
  {
   "attachments": {},
   "cell_type": "markdown",
   "metadata": {},
   "source": [
    "#### Reshaping Array"
   ]
  },
  {
   "cell_type": "code",
   "execution_count": 94,
   "metadata": {},
   "outputs": [
    {
     "name": "stdout",
     "output_type": "stream",
     "text": [
      "Original array:\n",
      "  [[1 2 3 4 5]\n",
      " [1 2 3 4 5]]\n",
      "\n",
      "Reshaped array:\n",
      "  [[1 2]\n",
      " [3 4]\n",
      " [5 1]\n",
      " [2 3]\n",
      " [4 5]]\n"
     ]
    }
   ],
   "source": [
    "arr = np.array([[1, 2, 3, 4, 5], [1, 2, 3, 4, 5]])\n",
    "\n",
    "print(\"Original array:\\n \", arr)\n",
    "print(\"\\nReshaped array:\\n \", arr.reshape((5,2)))\n"
   ]
  },
  {
   "attachments": {},
   "cell_type": "markdown",
   "metadata": {},
   "source": [
    "#### Vertical Stacking Array"
   ]
  },
  {
   "cell_type": "code",
   "execution_count": 96,
   "metadata": {},
   "outputs": [
    {
     "name": "stdout",
     "output_type": "stream",
     "text": [
      "[[1 2 3 4]\n",
      " [5 6 7 8]]\n"
     ]
    }
   ],
   "source": [
    "arr1 = np.array([1,2,3,4])\n",
    "arr2 = np.array([5,6,7,8])\n",
    "\n",
    "print(np.vstack([arr1, arr2]))"
   ]
  },
  {
   "attachments": {},
   "cell_type": "markdown",
   "metadata": {},
   "source": [
    "#### Horizontal Stacking Array"
   ]
  },
  {
   "cell_type": "code",
   "execution_count": 98,
   "metadata": {},
   "outputs": [
    {
     "name": "stdout",
     "output_type": "stream",
     "text": [
      "[[1. 1. 0. 0.]\n",
      " [1. 1. 0. 0.]]\n"
     ]
    }
   ],
   "source": [
    "arr1 = np.ones((2,2))\n",
    "arr2 = np.zeros((2,2))\n",
    "\n",
    "print(np.hstack([arr1, arr2]))"
   ]
  },
  {
   "attachments": {},
   "cell_type": "markdown",
   "metadata": {},
   "source": [
    "## Copy issue handled (Numpy)"
   ]
  },
  {
   "attachments": {},
   "cell_type": "markdown",
   "metadata": {},
   "source": [
    "#### Bug"
   ]
  },
  {
   "cell_type": "code",
   "execution_count": 42,
   "metadata": {},
   "outputs": [
    {
     "name": "stdout",
     "output_type": "stream",
     "text": [
      "arr1:  [1 5 3]\n",
      "arr2:  [1 5 3]\n"
     ]
    }
   ],
   "source": [
    "arr1 = np.array([1, 2, 3])\n",
    "arr2 = arr1\n",
    "arr2[1] = 5\n",
    "\n",
    "print ('arr1: ', arr1)\n",
    "print ('arr2: ', arr2)"
   ]
  },
  {
   "attachments": {},
   "cell_type": "markdown",
   "metadata": {},
   "source": [
    "#### Fix"
   ]
  },
  {
   "cell_type": "code",
   "execution_count": 43,
   "metadata": {},
   "outputs": [
    {
     "name": "stdout",
     "output_type": "stream",
     "text": [
      "arr1:  [1 2 3]\n",
      "arr2:  [1 5 3]\n"
     ]
    }
   ],
   "source": [
    "arr1 = np.array([1, 2, 3])\n",
    "arr2 = arr1.copy()\n",
    "arr2[1] = 5\n",
    "\n",
    "print('arr1: ', arr1)\n",
    "print('arr2: ', arr2)\n"
   ]
  },
  {
   "attachments": {},
   "cell_type": "markdown",
   "metadata": {},
   "source": [
    "## Accessing/Changing specific elements, rows, columns, etc."
   ]
  },
  {
   "cell_type": "code",
   "execution_count": 12,
   "metadata": {},
   "outputs": [
    {
     "name": "stdout",
     "output_type": "stream",
     "text": [
      "arr2D: [[1 2 3]\n",
      " [4 5 6]\n",
      " [7 8 9]]\n",
      "arr3D: [[[ 1  2  3]\n",
      "  [ 4  5  6]]\n",
      "\n",
      " [[ 7  8  9]\n",
      "  [10 11 12]]\n",
      "\n",
      " [[13 14 15]\n",
      "  [16 17 18]]]\n"
     ]
    }
   ],
   "source": [
    "arr2D = np.array([[1, 2, 3], [4, 5, 6],[7, 8, 9]])\n",
    "arr3D = np.array([[[1, 2, 3], [4, 5, 6]], [[7, 8, 9], [10, 11, 12]], [[13, 14, 15], [16, 17, 18]]])\n",
    "print(\"arr2D:\", arr2D)\n",
    "print(\"arr3D:\", arr3D)\n"
   ]
  },
  {
   "attachments": {},
   "cell_type": "markdown",
   "metadata": {},
   "source": [
    "#### get specific index value"
   ]
  },
  {
   "cell_type": "code",
   "execution_count": 17,
   "metadata": {},
   "outputs": [
    {
     "name": "stdout",
     "output_type": "stream",
     "text": [
      "arr2D: 5\n",
      "arr3D: 11\n"
     ]
    }
   ],
   "source": [
    "print(\"arr2D:\", arr2D[1, 1])\n",
    "print(\"arr3D:\", arr3D[1, 1, 1])\n"
   ]
  },
  {
   "attachments": {},
   "cell_type": "markdown",
   "metadata": {},
   "source": [
    "#### get specific row && column"
   ]
  },
  {
   "cell_type": "code",
   "execution_count": 26,
   "metadata": {},
   "outputs": [
    {
     "name": "stdout",
     "output_type": "stream",
     "text": [
      "Row:-\n",
      "arr2D: [91  2  3]\n",
      "\n",
      "Column:-\n",
      "arr2D: [91  4  7]\n",
      "\n",
      "Row [1->2]:-\n",
      "arr2D: [2]\n"
     ]
    }
   ],
   "source": [
    "print(\"Row:-\")\n",
    "print(\"arr2D:\", arr2D[0, :])\n",
    "\n",
    "print(\"\\nColumn:-\")\n",
    "print(\"arr2D:\", arr2D[:, 0])\n",
    "\n",
    "print(\"\\nRow [1->2]:-\")\n",
    "print(\"arr2D:\", arr2D[0, 1: 2])\n"
   ]
  },
  {
   "attachments": {},
   "cell_type": "markdown",
   "metadata": {},
   "source": [
    "#### changing value"
   ]
  },
  {
   "cell_type": "code",
   "execution_count": 27,
   "metadata": {},
   "outputs": [
    {
     "name": "stdout",
     "output_type": "stream",
     "text": [
      "arr2D {Before change}: [[91  2  3]\n",
      " [ 4  5  6]\n",
      " [ 7  8  9]]\n",
      "\n",
      "arr2D {After change}: [[91  2  3]\n",
      " [ 4  5  6]\n",
      " [ 7  8  9]]\n"
     ]
    }
   ],
   "source": [
    "print(\"arr2D {Before change}:\", arr2D)\n",
    "arr2D[0, 0] = 91\n",
    "print(\"\\narr2D {After change}:\", arr2D)"
   ]
  },
  {
   "cell_type": "code",
   "execution_count": 28,
   "metadata": {},
   "outputs": [
    {
     "name": "stdout",
     "output_type": "stream",
     "text": [
      "arr2D {Before change}: [[91  2  3]\n",
      " [ 4  5  6]\n",
      " [ 7  8  9]]\n",
      "\n",
      "arr2D {After change}: [[91  2  3]\n",
      " [91  5  6]\n",
      " [ 7  8  9]]\n"
     ]
    }
   ],
   "source": [
    "print(\"arr2D {Before change}:\", arr2D)\n",
    "arr2D[1, 0] = arr2D[0, 0]\n",
    "print(\"\\narr2D {After change}:\", arr2D)\n"
   ]
  },
  {
   "attachments": {},
   "cell_type": "markdown",
   "metadata": {},
   "source": [
    "## Initializing Different types of Arrays"
   ]
  },
  {
   "attachments": {},
   "cell_type": "markdown",
   "metadata": {},
   "source": [
    "#### Initialize array with 0s"
   ]
  },
  {
   "cell_type": "code",
   "execution_count": 12,
   "metadata": {},
   "outputs": [
    {
     "name": "stdout",
     "output_type": "stream",
     "text": [
      "[[0 0]\n",
      " [0 0]]\n"
     ]
    }
   ],
   "source": [
    "arr = np.zeros((2,2), dtype = 'int32')\n",
    "print(arr)"
   ]
  },
  {
   "attachments": {},
   "cell_type": "markdown",
   "metadata": {},
   "source": [
    "#### Initialize array with 1s"
   ]
  },
  {
   "cell_type": "code",
   "execution_count": 10,
   "metadata": {},
   "outputs": [
    {
     "name": "stdout",
     "output_type": "stream",
     "text": [
      "[[1. 1.]\n",
      " [1. 1.]]\n"
     ]
    }
   ],
   "source": [
    "arr = np.ones((2, 2))\n",
    "print(arr)\n"
   ]
  },
  {
   "attachments": {},
   "cell_type": "markdown",
   "metadata": {},
   "source": [
    "#### Initialize Array with same data"
   ]
  },
  {
   "cell_type": "code",
   "execution_count": 14,
   "metadata": {},
   "outputs": [
    {
     "name": "stdout",
     "output_type": "stream",
     "text": [
      "[[91 91]\n",
      " [91 91]]\n"
     ]
    }
   ],
   "source": [
    "arr = np.full((2, 2), 91)\n",
    "print(arr)"
   ]
  },
  {
   "attachments": {},
   "cell_type": "markdown",
   "metadata": {},
   "source": [
    "#### Initialize same structure Array with same other data"
   ]
  },
  {
   "cell_type": "code",
   "execution_count": 17,
   "metadata": {},
   "outputs": [
    {
     "name": "stdout",
     "output_type": "stream",
     "text": [
      "[[2 2]\n",
      " [2 2]]\n"
     ]
    }
   ],
   "source": [
    "arr2 = np.full_like(arr, 2)\n",
    "print(arr2)"
   ]
  },
  {
   "attachments": {},
   "cell_type": "markdown",
   "metadata": {},
   "source": [
    "#### Initialize Array with random data"
   ]
  },
  {
   "cell_type": "code",
   "execution_count": 20,
   "metadata": {},
   "outputs": [
    {
     "name": "stdout",
     "output_type": "stream",
     "text": [
      "[[0.79605027 0.9532402 ]\n",
      " [0.3428798  0.00303103]]\n"
     ]
    }
   ],
   "source": [
    "arr = np.random.rand(2,2)\n",
    "print(arr)"
   ]
  },
  {
   "attachments": {},
   "cell_type": "markdown",
   "metadata": {},
   "source": [
    "#### Initialize same structure array with random data"
   ]
  },
  {
   "cell_type": "code",
   "execution_count": 27,
   "metadata": {},
   "outputs": [
    {
     "name": "stdout",
     "output_type": "stream",
     "text": [
      "[[0.44946068 0.72778857]\n",
      " [0.2962834  0.0092902 ]]\n"
     ]
    }
   ],
   "source": [
    "arr = np.random.random_sample(arr2.shape)\n",
    "print(arr)\n"
   ]
  },
  {
   "attachments": {},
   "cell_type": "markdown",
   "metadata": {},
   "source": [
    "#### Initialize with random integers with range"
   ]
  },
  {
   "cell_type": "code",
   "execution_count": 29,
   "metadata": {},
   "outputs": [
    {
     "name": "stdout",
     "output_type": "stream",
     "text": [
      "[[1 7 6]\n",
      " [4 2 5]\n",
      " [9 7 7]]\n"
     ]
    }
   ],
   "source": [
    "arr = np.random.randint(1, 10, size = (3,3))\n",
    "print(arr)"
   ]
  },
  {
   "attachments": {},
   "cell_type": "markdown",
   "metadata": {},
   "source": [
    "#### Identity matrix formation"
   ]
  },
  {
   "cell_type": "code",
   "execution_count": 33,
   "metadata": {},
   "outputs": [
    {
     "name": "stdout",
     "output_type": "stream",
     "text": [
      "[[1 0 0]\n",
      " [0 1 0]\n",
      " [0 0 1]]\n"
     ]
    }
   ],
   "source": [
    "arr = np.identity(3, dtype = 'int32')\n",
    "print(arr)"
   ]
  },
  {
   "attachments": {},
   "cell_type": "markdown",
   "metadata": {},
   "source": [
    "#### initialize Array with repeated values"
   ]
  },
  {
   "cell_type": "code",
   "execution_count": 37,
   "metadata": {},
   "outputs": [
    {
     "name": "stdout",
     "output_type": "stream",
     "text": [
      "[1 1 1 2 2 2 3 3 3]\n"
     ]
    }
   ],
   "source": [
    "arr = np.array([1, 2, 3])\n",
    "arrRep = np.repeat(arr, 3, axis = 0)\n",
    "print(arrRep)"
   ]
  },
  {
   "cell_type": "code",
   "execution_count": 38,
   "metadata": {},
   "outputs": [
    {
     "name": "stdout",
     "output_type": "stream",
     "text": [
      "[[1 2 3]\n",
      " [1 2 3]\n",
      " [1 2 3]]\n"
     ]
    }
   ],
   "source": [
    "arr = np.array([[1, 2, 3]])\n",
    "arrRep = np.repeat(arr, 3, axis=0)\n",
    "print(arrRep)\n"
   ]
  },
  {
   "cell_type": "markdown",
   "metadata": {},
   "source": [
    "## Mathematics"
   ]
  },
  {
   "attachments": {},
   "cell_type": "markdown",
   "metadata": {},
   "source": [
    "#### + - * / ^ (with numbers)"
   ]
  },
  {
   "cell_type": "code",
   "execution_count": 3,
   "metadata": {},
   "outputs": [
    {
     "name": "stdout",
     "output_type": "stream",
     "text": [
      "+ :  [3 4 5]\n",
      "- :  [-1  0  1]\n",
      "* :  [2 4 6]\n",
      "/ :  [0.5 1.  1.5]\n",
      "^ :  [1 4 9]\n"
     ]
    }
   ],
   "source": [
    "arr = np.array([1, 2, 3])\n",
    "\n",
    "print('+ : ', arr + 2)\n",
    "print('- : ', arr - 2)\n",
    "print('* : ', arr * 2)\n",
    "print('/ : ', arr / 2)\n",
    "print('^ : ', arr ** 2)"
   ]
  },
  {
   "attachments": {},
   "cell_type": "markdown",
   "metadata": {},
   "source": [
    "#### + - * / ^ (with second array)"
   ]
  },
  {
   "cell_type": "code",
   "execution_count": 4,
   "metadata": {},
   "outputs": [
    {
     "name": "stdout",
     "output_type": "stream",
     "text": [
      "+ :  [2 4 6]\n",
      "- :  [0 0 0]\n",
      "* :  [1 4 9]\n",
      "/ :  [1. 1. 1.]\n",
      "^ :  [ 1  4 27]\n"
     ]
    }
   ],
   "source": [
    "arr = np.array([1, 2, 3])\n",
    "arr2 = np.array([1, 2, 3])\n",
    "\n",
    "print('+ : ', arr + arr2)\n",
    "print('- : ', arr - arr2)\n",
    "print('* : ', arr * arr2)\n",
    "print('/ : ', arr / arr2)\n",
    "print('^ : ', arr ** arr2)\n"
   ]
  },
  {
   "attachments": {},
   "cell_type": "markdown",
   "metadata": {},
   "source": [
    "#### Trigonometry "
   ]
  },
  {
   "cell_type": "code",
   "execution_count": 57,
   "metadata": {},
   "outputs": [
    {
     "name": "stdout",
     "output_type": "stream",
     "text": [
      "cos:  [ 0.54030231 -0.41614684 -0.9899925 ]\n",
      "sin:  [0.84147098 0.90929743 0.14112001]\n",
      "tan:  [ 1.55740772 -2.18503986 -0.14254654]\n"
     ]
    }
   ],
   "source": [
    "arr = np.array([1, 2, 3])\n",
    "\n",
    "print('cos: ', np.cos(arr))\n",
    "print('sin: ', np.sin(arr))\n",
    "print('tan: ', np.tan(arr))"
   ]
  },
  {
   "attachments": {},
   "cell_type": "markdown",
   "metadata": {},
   "source": [
    "#### Matrix(Linear algebra) to Array"
   ]
  },
  {
   "attachments": {},
   "cell_type": "markdown",
   "metadata": {},
   "source": [
    "#### Matrix Multiplication"
   ]
  },
  {
   "cell_type": "code",
   "execution_count": 4,
   "metadata": {},
   "outputs": [
    {
     "name": "stdout",
     "output_type": "stream",
     "text": [
      "[[6 6]\n",
      " [6 6]]\n"
     ]
    }
   ],
   "source": [
    "arr1 = np.full((2,3), 2)\n",
    "arr2 = np.full((3,2), 1)\n",
    "\n",
    "print(np.matmul(arr1, arr2))"
   ]
  },
  {
   "attachments": {},
   "cell_type": "markdown",
   "metadata": {},
   "source": [
    "#### Find Determinant"
   ]
  },
  {
   "cell_type": "code",
   "execution_count": 12,
   "metadata": {},
   "outputs": [
    {
     "name": "stdout",
     "output_type": "stream",
     "text": [
      "3.999999999999999\n"
     ]
    }
   ],
   "source": [
    "arr = np.array([[2, 1], [6, 5]])\n",
    "print(np.linalg.det(arr))"
   ]
  },
  {
   "attachments": {},
   "cell_type": "markdown",
   "metadata": {},
   "source": [
    "#### Find inverse"
   ]
  },
  {
   "cell_type": "code",
   "execution_count": 13,
   "metadata": {},
   "outputs": [
    {
     "name": "stdout",
     "output_type": "stream",
     "text": [
      "[[ 1.25 -0.25]\n",
      " [-1.5   0.5 ]]\n"
     ]
    }
   ],
   "source": [
    "arr = np.array([[2, 1], [6, 5]])\n",
    "print(np.linalg.inv(arr))"
   ]
  },
  {
   "attachments": {},
   "cell_type": "markdown",
   "metadata": {},
   "source": [
    "#### Statistics"
   ]
  },
  {
   "cell_type": "code",
   "execution_count": 6,
   "metadata": {},
   "outputs": [
    {
     "name": "stdout",
     "output_type": "stream",
     "text": [
      "Max:  9\n",
      "Max array:  [7 8 9]\n",
      "Max of every index:  [3 6 9]\n",
      "\n",
      "Min:  1\n",
      "Min array:  [1 2 3]\n",
      "Mai of every index:  [1 4 7]\n",
      "\n",
      "Sum of arrays:  45\n",
      "Sum of arrays by same index:  [12 15 18]\n",
      "Sum of each arrays:  [ 6 15 24]\n"
     ]
    }
   ],
   "source": [
    "arr = np.array([[1, 2, 3], [4, 5, 6], [7, 8, 9]])\n",
    "\n",
    "print('Max: ', np.max(arr))\n",
    "print('Max array: ', np.max(arr, axis = 0))\n",
    "print('Max of every index: ', np.max(arr, axis = 1))\n",
    "\n",
    "print('\\nMin: ', np.min(arr))\n",
    "print('Min array: ', np.min(arr, axis = 0))\n",
    "print('Mai of every index: ', np.min(arr, axis=1))\n",
    "\n",
    "print('\\nSum of arrays: ', np.sum(arr))\n",
    "print('Sum of arrays by same index: ', np.sum(arr, axis = 0))\n",
    "print('Sum of each arrays: ', np.sum(arr, axis = 1))\n"
   ]
  },
  {
   "attachments": {},
   "cell_type": "markdown",
   "metadata": {},
   "source": [
    "## Load data from file"
   ]
  },
  {
   "cell_type": "code",
   "execution_count": 14,
   "metadata": {},
   "outputs": [],
   "source": [
    "# TODO: left this part because it needs a file that contains data"
   ]
  }
 ],
 "metadata": {
  "kernelspec": {
   "display_name": "Python 3",
   "language": "python",
   "name": "python3"
  },
  "language_info": {
   "codemirror_mode": {
    "name": "ipython",
    "version": 3
   },
   "file_extension": ".py",
   "mimetype": "text/x-python",
   "name": "python",
   "nbconvert_exporter": "python",
   "pygments_lexer": "ipython3",
   "version": "3.11.3"
  },
  "orig_nbformat": 4
 },
 "nbformat": 4,
 "nbformat_minor": 2
}
